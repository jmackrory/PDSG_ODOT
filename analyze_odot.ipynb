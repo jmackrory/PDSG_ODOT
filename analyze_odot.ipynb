{
 "cells": [
  {
   "cell_type": "markdown",
   "metadata": {
    "ein.tags": "worksheet-0",
    "slideshow": {
     "slide_type": "-"
    }
   },
   "source": [
    "# PDSG ODOT\n",
    "\n",
    "This notebook explores car crashes in Oregon, from 2003-2016.\n",
    "This was part of the Portland Data Science Group's Applied Data Science Meetup\n",
    "for July 2018.\n",
    "\n",
    "The data was gathered from Oregon Department of Transportation's web portal,\n",
    "(https://zigzag.odot.state.or.us) using the CDS501 dataset.\n",
    "This lists nearly every motor vehicle crash in Oregon and includes information about the\n",
    "time, location, participants, and causes.\n",
    "In all theres around 700k accidents total.\n",
    "\n",
    "\n",
    "This is primarily exploratory analysis, with plotting where accidents happen, was alcohol use a factor,\n",
    "and variation over time.\n",
    "The goal is to explore the data in Python, perhaps putting some of this data into SQL,\n",
    "and carry out some Bayesian Statistical Analyses on quantities of interest. \n",
    "\n",
    "Does alcohol or drug use increase harm?\n",
    "Are there seasonal patterns over the day, week, year?\n",
    "\n",
    "Right now, it also does a simple linear regression on the total number of accidents, with each month handled separately.\n"
   ]
  },
  {
   "cell_type": "markdown",
   "metadata": {
    "ein.tags": "worksheet-0",
    "slideshow": {
     "slide_type": "-"
    }
   },
   "source": [
    "## Potential Questions\n",
    "\n",
    "I'd like to approach this problem partially as a cyclist,\n",
    "but also as if I were looking into results for the state.\n",
    "\n",
    "On a personal level I want to know where are roads most dangerous?\n",
    "At a higher level, I'd like to know the broad trends in time and space,\n",
    "look at the causes for accidents,\n",
    "and see if public policy is working (e.g. discouraging drink driving).\n",
    "\n",
    "### Trend Questions\n",
    "- How has the number of crashes changed over time?\n",
    "- How has the number of fatalities changed over time?\n",
    "(Confounding effects: immigration into the state/cities - need population data)\n",
    "\n",
    "## Alcohol/Drug questions\n",
    "- Are incidents with alcohol increasing/decreasing?\n",
    "- What effect does Alcohol have? (more fatalities? more serious accidents?)\n",
    "- Seatbelts effect on injuries vs fatalities.\n",
    "\n",
    "## Location Questions\n",
    "- Where are the most dangerous places for (drivers, pedestrians, cyclists)?\n",
    "- Where do the accidents occur (towns, road type, roadways)?\n",
    "\n",
    "## Externalities\n",
    "- How does weather affect crashes? (Rural vs Urban?)\n",
    "- How do accident rates vary as a function of time of day?\n",
    "- (Get sunset/sunrise information)\n",
    "\n",
    "What are the most common causes for accidents?\n"
   ]
  },
  {
   "cell_type": "code",
   "execution_count": 1,
   "metadata": {
    "autoscroll": false,
    "collapsed": false,
    "ein.tags": "worksheet-0",
    "slideshow": {
     "slide_type": "-"
    }
   },
   "outputs": [],
   "source": [
    "%load_ext autoreload\n",
    "%autoreload 2"
   ]
  },
  {
   "cell_type": "code",
   "execution_count": 2,
   "metadata": {
    "autoscroll": false,
    "collapsed": false,
    "ein.tags": "worksheet-0",
    "slideshow": {
     "slide_type": "-"
    }
   },
   "outputs": [],
   "source": [
    "import pandas as pd\n",
    "import numpy as np\n",
    "import matplotlib.pyplot as plt\n",
    "import sys\n",
    "import time"
   ]
  },
  {
   "cell_type": "markdown",
   "metadata": {
    "ein.tags": "worksheet-0",
    "slideshow": {
     "slide_type": "-"
    }
   },
   "source": [
    "RIght now this just looks at a limited set of data relating to each crash.\n",
    "It would probably make more sense to split this data into two tables, a crash info table,\n",
    "and a participant info table. "
   ]
  },
  {
   "cell_type": "code",
   "execution_count": 4,
   "metadata": {
    "autoscroll": false,
    "collapsed": false,
    "ein.tags": "worksheet-0",
    "slideshow": {
     "slide_type": "-"
    }
   },
   "outputs": [
    {
     "name": "stdout",
     "output_type": "stream",
     "text": [
      "0 Crash ID KEEP\n",
      "1 Record Type\n",
      "2 Vehicle ID\n",
      "3 Participant ID\n",
      "4 Participant Display Seq#\n",
      "5 Vehicle Coded Seq#\n",
      "6 Participant Vehicle Seq#\n",
      "7 Serial #\n",
      "8 Crash Month KEEP\n",
      "9 Crash Day KEEP\n",
      "10 Crash Year KEEP\n",
      "11 Week Day Code KEEP\n",
      "12 Crash Hour KEEP\n",
      "13 County Code\n",
      "14 City Section ID\n",
      "15 Urban Area Code KEEP\n",
      "16 Functional Class Code\n",
      "17 NHS Flag\n",
      "18 Highway Number\n",
      "19 Highway Suffix\n",
      "20 Roadway Number\n",
      "21 Highway Component\n",
      "22 Mileage Type\n",
      "23 Connection Number\n",
      "24 Linear Reference System (LRS)\n",
      "25 Latitude Degrees KEEP\n",
      "26 Latitude Minutes KEEP\n",
      "27 Latitude Seconds KEEP\n",
      "28 Longitude Degrees KEEP\n",
      "29 Longitude Minutes KEEP\n",
      "30 Longitude Seconds KEEP\n",
      "31 Special Jurisdiction\n",
      "32 Jurisdiction Group\n",
      "33 Street Number\n",
      "34 Nearest Intersecting Street Number\n",
      "35 Intersection Sequence Number\n",
      "36 Distance from Intersection\n",
      "37 Direction From Intersection\n",
      "38 Milepoint\n",
      "39 Posted Speed Limit KEEP\n",
      "40 Road Character KEEP\n",
      "41 Off Roadway Flag\n",
      "42 Intersection Type\n",
      "43 Intersection Related Flag\n",
      "44 Roundabout Flag\n",
      "45 Driveway Related Flag\n",
      "46 Number of Lanes\n",
      "47 Number of Turning Legs\n",
      "48 Median Type\n",
      "49 Impact Location\n",
      "50 Crash Type KEEP\n",
      "51 Collision Type\n",
      "52 Crash Severity KEEP\n",
      "53 Weather Condition KEEP\n",
      "54 Road Surface Condition KEEP\n",
      "55 Light Condition KEEP\n",
      "56 Traffic Control Device (TCD)\n",
      "57 TCD Functional Flag\n",
      "58 Investigating Agency\n",
      "59 Crash Level Event 1 Code\n",
      "60 Crash Level Event 2 Code\n",
      "61 Crash Level Event 3 Code\n",
      "62 Crash Level Cause 1 Code\n",
      "63 Crash Level Cause 2 Code\n",
      "64 Crash Level Cause 3 Code\n",
      "65 School Zone Indicator\n",
      "66 Work Zone Indicator\n",
      "67 Alcohol-Involved Flag KEEP\n",
      "68 Drugs Involved Flag KEEP\n",
      "69 Speed Involved Flag KEEP\n",
      "70 Crash Level Hit & Run Flag\n",
      "71 Population Range Code\n",
      "72 Road Control\n",
      "73 Route Type\n",
      "74 Route Number\n",
      "75 Region ID\n",
      "76 District ID\n",
      "77 Segment Marker ID\n",
      "78 Segment Point LRS Measure\n",
      "79 Unlocatable Flag\n",
      "80 Total Vehicle Count KEEP\n",
      "81 Total Fatality Count KEEP\n",
      "82 Total Serious Injury (Inj-A) Count\n",
      "83 Total Moderate Injury (Inj-B) Count\n",
      "84 Total Minor Injury (Inj-C) Count\n",
      "85 Total Non-Fatal Injury Count KEEP\n",
      "86 Total Count of Un-Injured  Children Age 00-04 KEEP\n",
      "87 Total Count of Un-Injured Persons KEEP\n",
      "88 Total Pedestrian Count KEEP\n",
      "89 Total Pedestrian Fatality Count KEEP\n",
      "90 Total Pedestrian Non-Fatal Injury Count KEEP\n",
      "91 Total Pedalcyclist Count KEEP\n",
      "92 Total Pedalcyclist Fatality Count KEEP\n",
      "93 Total Pedalcyclist Non-Fatal Injury Count KEEP\n",
      "94 Total Unknown Non-Motorist Count\n",
      "95 Total Unknown Non-Motorist Fatality Count\n",
      "96 Total Unknown Non-Motorist Injury Count\n",
      "97 Total Vehicle Occupant Count\n",
      "98 Total Count of Persons Involved\n",
      "99 Total Quantity of Persons Using Safety Equipment   KEEP\n",
      "100 Total Quantity of Persons Not Using Safety Equipment KEEP\n",
      "101 Total Quantity of Persons Safety Equipment \"Use Unknown\"\n",
      "102 Vehicle Ownership Code\n",
      "103 Vehicle Special Use Code\n",
      "104 Vehicle Type Code\n",
      "105 Emergency Use Flag\n",
      "106 Number of Trailers\n",
      "107 Vehicle Movement Code\n",
      "108 Vehicle Travel Direction From\n",
      "109 Vehicle Travel Direction To\n",
      "110 Vehicle Action Code\n",
      "111 Vehicle Cause 1 Code\n",
      "112 Vehicle Cause 2 Code\n",
      "113 Vehicle Cause 3 Code\n",
      "114 Vehicle Event 1 Code\n",
      "115 Vehicle Event 2 Code\n",
      "116 Vehicle Event 3 Code\n",
      "117 Vehicle Exceeded Posted Speed Flag\n",
      "118 Vehicle Hit & Run Flag\n",
      "119 Safety Equipment Used Quantity\n",
      "120 Safety Equipment Un-used Quantity\n",
      "121 Safety Equipment Use Unknown Quantity\n",
      "122 Vehicle Occupant Count\n",
      "123 Vehicle Striking Flag\n",
      "124 Participant Type Code\n",
      "125 Participant Hit & Run Flag\n",
      "126 Public Employee Flag\n",
      "127 Sex KEEP\n",
      "128 Age KEEP\n",
      "129 Driver License Status\n",
      "130 Driver Residence\n",
      "131 Injury Severity\n",
      "132 Participant Safety Equipment Use Code\n",
      "133 Airbag Deployment\n",
      "134 Non-Motorist Movement Code\n",
      "135 Non-Motorist Travel Direction From\n",
      "136 Non-Motorist Travel Direction To\n",
      "137 Non-Motorist Location\n",
      "138 Participant Action\n",
      "139 Participant Error 1 Code\n",
      "140 Participant Error 2 Code\n",
      "141 Participant Error 3 Code\n",
      "142 Participant Cause 1 Code\n",
      "143 Participant Cause 2 Code\n",
      "144 Participant Cause 3 Code\n",
      "145 Participant Event 1 Code\n",
      "146 Participant Event 2 Code\n",
      "147 Participant Event 3 Code\n",
      "148 BAC Test Results Code\n",
      "149 Alcohol Use Reported\n",
      "150 Drug Use Reported\n",
      "151 Participant Striker Flag\n"
     ]
    }
   ],
   "source": [
    "#Keep columns for location, timing, injuries, alcohol/drugs\n",
    "#Also demographics (age/sex)\n",
    "keep=[0,8,9,10,11,12,15,25,26,27,28,29,30,39,40,50,52,53,54,55,67,68,69,\n",
    "80,81,85,86,87,88,89,90,91,92,93,99,100,127,128]\n",
    "keep_names=[]\n",
    "# for i,col in enumerate(df_tot.columns):\n",
    "#     if (i in keep):\n",
    "#         keep_names.append(col)\n",
    "#         print(i,col, 'KEEP')\n",
    "#     else:\n",
    "#         print(i,col)"
   ]
  },
  {
   "cell_type": "code",
   "execution_count": 29,
   "metadata": {
    "autoscroll": false,
    "collapsed": false,
    "ein.tags": "worksheet-0",
    "slideshow": {
     "slide_type": "-"
    }
   },
   "outputs": [
    {
     "name": "stdout",
     "output_type": "stream",
     "text": [
      "Loading 2015\n"
     ]
    },
    {
     "name": "stdout",
     "output_type": "stream",
     "text": [
      "Loading 2014\n"
     ]
    },
    {
     "name": "stdout",
     "output_type": "stream",
     "text": [
      "Loading 2013\n"
     ]
    },
    {
     "name": "stderr",
     "output_type": "stream",
     "text": [
      "/home/jonathan/anaconda3/lib/python3.6/site-packages/IPython/core/interactiveshell.py:2717: DtypeWarning: Columns (41,68,81) have mixed types. Specify dtype option on import or set low_memory=False.\n",
      "  interactivity=interactivity, compiler=compiler, result=result)\n"
     ]
    },
    {
     "name": "stdout",
     "output_type": "stream",
     "text": [
      "Loading 2012\n"
     ]
    },
    {
     "name": "stdout",
     "output_type": "stream",
     "text": [
      "Loading 2011\n"
     ]
    },
    {
     "name": "stdout",
     "output_type": "stream",
     "text": [
      "Loading 2010\n"
     ]
    },
    {
     "name": "stdout",
     "output_type": "stream",
     "text": [
      "Loading 2009\n"
     ]
    },
    {
     "name": "stdout",
     "output_type": "stream",
     "text": [
      "Loading 2008\n"
     ]
    },
    {
     "name": "stdout",
     "output_type": "stream",
     "text": [
      "Loading 2007\n"
     ]
    },
    {
     "name": "stdout",
     "output_type": "stream",
     "text": [
      "Loading 2006\n"
     ]
    },
    {
     "name": "stdout",
     "output_type": "stream",
     "text": [
      "Loading 2005\n"
     ]
    },
    {
     "name": "stdout",
     "output_type": "stream",
     "text": [
      "Loading 2004\n"
     ]
    },
    {
     "name": "stdout",
     "output_type": "stream",
     "text": [
      "Loading 2003\n"
     ]
    },
    {
     "name": "stdout",
     "output_type": "stream",
     "text": [
      "Loading 2002\n"
     ]
    }
   ],
   "source": [
    "# Load up a few years worth of data from 2002-2005\n",
    "# Note current Typo: 2002 file is 2016 data?\n",
    "years=np.arange(2003,2016);\n",
    "file_dir='./train_data'\n",
    "df_tot2=pd.DataFrame()\n",
    "#Add 1 to columns (data processing left in index row?)\n",
    "keep=[0,8,9,10,11,12,15,25,26,27,28,29,30,39,40,50,52,53,54,55,67,68,69,\n",
    "80,81,85,86,87,88,89,90,91,92,93,99,100,127,128];\n",
    "keep2 = [x+1 for x in keep];\n",
    "for year in years:\n",
    "    file_name=file_dir+'/'+'SW_Crashes_{}_CDS501.csv'.format(year)\n",
    "    print('Loading {}'.format(year))\n",
    "    df_tot2=df_tot2.append( pd.read_csv(file_name,usecols=keep2))"
   ]
  },
  {
   "cell_type": "code",
   "execution_count": 30,
   "metadata": {
    "autoscroll": false,
    "collapsed": false,
    "ein.tags": "worksheet-0",
    "slideshow": {
     "slide_type": "-"
    }
   },
   "outputs": [
    {
     "data": {
      "text/plain": [
       "(3338853, 38)"
      ]
     },
     "execution_count": 30,
     "metadata": {},
     "output_type": "execute_result"
    }
   ],
   "source": [
    "df_tot2.shape"
   ]
  },
  {
   "cell_type": "markdown",
   "metadata": {
    "ein.tags": "worksheet-0",
    "slideshow": {
     "slide_type": "-"
    }
   },
   "source": [
    "# Checking counts\n",
    "\n",
    "Count total number of crashes, and number of crashes by number of cyclists involved."
   ]
  },
  {
   "cell_type": "code",
   "execution_count": 31,
   "metadata": {
    "autoscroll": false,
    "collapsed": false,
    "ein.tags": "worksheet-0",
    "slideshow": {
     "slide_type": "-"
    }
   },
   "outputs": [
    {
     "data": {
      "text/plain": [
       "(669584,)"
      ]
     },
     "execution_count": 31,
     "metadata": {},
     "output_type": "execute_result"
    }
   ],
   "source": [
    "# Unique number of crash IDs\n",
    "df_tot2['Crash ID'].unique().shape"
   ]
  },
  {
   "cell_type": "code",
   "execution_count": 35,
   "metadata": {
    "autoscroll": false,
    "collapsed": false,
    "ein.tags": "worksheet-0",
    "slideshow": {
     "slide_type": "-"
    }
   },
   "outputs": [
    {
     "data": {
      "text/plain": [
       "<matplotlib.figure.Figure at 0x7efbc4ae6da0>"
      ]
     },
     "metadata": {},
     "output_type": "display_data"
    }
   ],
   "source": [
    "plt.figure()\n",
    "plt.subplot(121)\n",
    "df_tot2['Total Pedalcyclist Count'].hist(log=True,bins=[0,1,2,3,4])\n",
    "plt.subplot(122)\n",
    "df_tot2['Total Non-Fatal Injury Count'].hist(log=True,bins=np.arange(15))\n",
    "plt.show()"
   ]
  },
  {
   "cell_type": "markdown",
   "metadata": {
    "ein.tags": "worksheet-0",
    "slideshow": {
     "slide_type": "-"
    }
   },
   "source": [
    "So if we assume that cyclists are independent, there's roughly a 100x factor drop between accidents with no cyclists,\n",
    "and accidents with one and two cyclists.  That suggests 100x as many cars on the road as cyclists.\n",
    "The comparison against all injuries is primarily visual to see if there's anything anomalous about the cyclists.\n",
    "\n",
    "Let's look a bit at injuries and fatalities with and without alcohol."
   ]
  },
  {
   "cell_type": "code",
   "execution_count": 63,
   "metadata": {
    "autoscroll": false,
    "collapsed": false,
    "ein.tags": "worksheet-0",
    "slideshow": {
     "slide_type": "-"
    }
   },
   "outputs": [
    {
     "data": {
      "text/plain": [
       "<matplotlib.figure.Figure at 0x7efbc4a0a5f8>"
      ]
     },
     "metadata": {},
     "output_type": "display_data"
    }
   ],
   "source": [
    "alc_msk=df_tot2['Alcohol-Involved Flag']==1\n",
    "plt.figure(figsize=(10,6))\n",
    "plt.subplot(221)\n",
    "df_tot2.loc[alc_msk,'Total Non-Fatal Injury Count'].hist(log=True,bins=np.arange(12))\n",
    "plt.subplot(222)\n",
    "df_tot2.loc[~alc_msk,'Total Non-Fatal Injury Count'].hist(log=True,bins=np.arange(10))\n",
    "plt.subplot(223)\n",
    "df_tot2.loc[alc_msk,'Total Fatality Count'].hist(log=True,bins=np.arange(12))\n",
    "plt.subplot(224)\n",
    "df_tot2.loc[~alc_msk,'Total Fatality Count'].hist(log=True,bins=np.arange(10))\n",
    "\n",
    "plt.show()"
   ]
  },
  {
   "cell_type": "code",
   "execution_count": 20,
   "metadata": {
    "autoscroll": false,
    "collapsed": false,
    "ein.tags": "worksheet-0",
    "slideshow": {
     "slide_type": "-"
    }
   },
   "outputs": [
    {
     "data": {
      "text/plain": [
       "<matplotlib.figure.Figure at 0x7efbc4f3e9e8>"
      ]
     },
     "metadata": {},
     "output_type": "display_data"
    }
   ],
   "source": [
    "df_tot2['Sex'].hist()\n",
    "plt.show()"
   ]
  },
  {
   "cell_type": "markdown",
   "metadata": {
    "ein.tags": "worksheet-0",
    "slideshow": {
     "slide_type": "-"
    }
   },
   "source": [
    "I believe this is coded as Male=1, Female=2, Unknown (child under 4) =9."
   ]
  },
  {
   "cell_type": "markdown",
   "metadata": {
    "ein.tags": "worksheet-0",
    "slideshow": {
     "slide_type": "-"
    }
   },
   "source": [
    "# Crash heatmaps\n",
    "\n",
    "So let's visualize where the crashes happen.  Nothing fancy.\n",
    "Just build up a heatmap based on lat/lon pairs for each crash.  Treats each crash as one value."
   ]
  },
  {
   "cell_type": "code",
   "execution_count": 21,
   "metadata": {
    "autoscroll": false,
    "collapsed": false,
    "ein.tags": "worksheet-0",
    "slideshow": {
     "slide_type": "-"
    }
   },
   "outputs": [],
   "source": [
    "from heatmap import make_latlon, make_xydict, make_eff_heatmap, make_heatmap_plot"
   ]
  },
  {
   "cell_type": "code",
   "execution_count": 36,
   "metadata": {
    "autoscroll": false,
    "collapsed": false,
    "ein.tags": "worksheet-0",
    "slideshow": {
     "slide_type": "-"
    }
   },
   "outputs": [
    {
     "data": {
      "text/plain": [
       "<matplotlib.figure.Figure at 0x7efbc4a0c390>"
      ]
     },
     "metadata": {},
     "output_type": "display_data"
    },
    {
     "name": "stdout",
     "output_type": "stream",
     "text": [
      "time taken 24.443438053131104\n"
     ]
    }
   ],
   "source": [
    "t0=time.time()\n",
    "lats,lons=make_latlon(df_tot2)\n",
    "xd=make_xydict(lats,lons,Nx=2000)\n",
    "heat = make_eff_heatmap(lats,lons,xd,sigma_fac=1)\n",
    "t1=time.time()\n",
    "print('time taken',t1-t0)\n",
    "make_heatmap_plot(heat,xd,'Log10-number of ALL accidents from 2002-2014 in Oregon','crash_heatmap.pdf')"
   ]
  },
  {
   "cell_type": "code",
   "execution_count": 37,
   "metadata": {
    "autoscroll": false,
    "collapsed": false,
    "ein.tags": "worksheet-0",
    "slideshow": {
     "slide_type": "-"
    }
   },
   "outputs": [],
   "source": [
    "cycle_msk=df_tot2['Total Pedalcyclist Count']>0\n",
    "df_cycle=df_tot2[cycle_msk]"
   ]
  },
  {
   "cell_type": "code",
   "execution_count": 38,
   "metadata": {
    "autoscroll": false,
    "collapsed": false,
    "ein.tags": "worksheet-0",
    "slideshow": {
     "slide_type": "-"
    }
   },
   "outputs": [
    {
     "data": {
      "text/plain": [
       "<matplotlib.figure.Figure at 0x7efbc48d8908>"
      ]
     },
     "metadata": {},
     "output_type": "display_data"
    }
   ],
   "source": [
    "clats, clons = make_latlon(df_cycle)\n",
    "cheat=make_eff_heatmap(clats,clons,xd,sigma_fac=1)\n",
    "make_heatmap_plot(cheat,xd,'Log10 number of BICYCLE accidents from 2012-2015 in Oregon')"
   ]
  },
  {
   "cell_type": "markdown",
   "metadata": {
    "ein.tags": "worksheet-0",
    "slideshow": {
     "slide_type": "-"
    }
   },
   "source": [
    "So this basically shows that accidents with cyclists are most likely to occur in urban centers.  Which is not really surprising.\n",
    "\n",
    "There also notable hotpots in the downtown regions in Portland and Eugene.\n",
    "A rongh estimat for the collision rate would be scale as the square of the density of traffic $n(x)^2$.\n",
    "One power for having cars at all, and a second power for a collision between vehicles. \n"
   ]
  },
  {
   "cell_type": "markdown",
   "metadata": {
    "ein.tags": "worksheet-0",
    "slideshow": {
     "slide_type": "-"
    }
   },
   "source": [
    "# Group by Year/Month\n",
    "\n",
    "Let's look at variation by time/year.  And since I got curious, let's look at total crashes and alcohol involved."
   ]
  },
  {
   "cell_type": "code",
   "execution_count": 66,
   "metadata": {
    "autoscroll": false,
    "collapsed": false,
    "ein.tags": "worksheet-0",
    "slideshow": {
     "slide_type": "-"
    }
   },
   "outputs": [],
   "source": [
    "df_yr=df_tot2.groupby(['Crash Year','Crash Month'])\n",
    "df_alc_yr=df_tot2.loc[alc_msk].groupby(['Crash Year','Crash Month'])"
   ]
  },
  {
   "cell_type": "code",
   "execution_count": 67,
   "metadata": {
    "autoscroll": false,
    "collapsed": false,
    "ein.tags": "worksheet-0",
    "slideshow": {
     "slide_type": "-"
    }
   },
   "outputs": [],
   "source": [
    "#get the count in each year/month pair.\n",
    "yr_month=df_yr.apply(len)\n",
    "alc_yr_month=df_alc_yr.apply(len)"
   ]
  },
  {
   "cell_type": "code",
   "execution_count": 76,
   "metadata": {
    "autoscroll": false,
    "collapsed": false,
    "ein.tags": "worksheet-0",
    "slideshow": {
     "slide_type": "-"
    }
   },
   "outputs": [
    {
     "data": {
      "text/plain": [
       "<matplotlib.figure.Figure at 0x7efbc447d9e8>"
      ]
     },
     "metadata": {},
     "output_type": "display_data"
    }
   ],
   "source": [
    "plt.figure(figsize=(10,6))\n",
    "yr_month.plot(label='Total Crashes')\n",
    "plt.xlabel('(Year, Month)')\n",
    "plt.ylabel('Total crashes')\n",
    "plt.show()"
   ]
  },
  {
   "cell_type": "markdown",
   "metadata": {
    "ein.tags": "worksheet-0",
    "slideshow": {
     "slide_type": "-"
    }
   },
   "source": [
    "There's a clear annual pattern, with a spike around the December/January holidays, when people are likely to be travelling.\n",
    "2003 seems to be strangely high overall.  I wonder if there was a change in reporting requirements?\n",
    "Otherwise, there seems to be a growth, probably related to population growth primarily in Portland.\n",
    "It would be nice to get population data by city across the state over this time period. \n",
    "\n",
    "Further questions:\n",
    "- Split up by city?\n",
    "- Look at weekends bracketing Chrismas/New Years day?\n",
    "\n",
    "Some significant changes in driving have occured over this time period: namely the advent of smartphones.\n",
    "These have perhaps worsened some problems making distracted driving even worse.\n",
    "This should be accounted for under causes.\n",
    "\n",
    "What of alcohol?  The Christmas holidays have a lot of parties, typically involving drinking.\n",
    "Does this show similar variation over the year"
   ]
  },
  {
   "cell_type": "code",
   "execution_count": 75,
   "metadata": {
    "autoscroll": false,
    "collapsed": false,
    "ein.tags": "worksheet-0",
    "slideshow": {
     "slide_type": "-"
    }
   },
   "outputs": [
    {
     "data": {
      "text/plain": [
       "<matplotlib.figure.Figure at 0x7efbc44b9ac8>"
      ]
     },
     "metadata": {},
     "output_type": "display_data"
    }
   ],
   "source": [
    "plt.figure(figsize=(10,6))\n",
    "plt.subplot(211)\n",
    "yr_month.plot(label='Total Crashes')\n",
    "plt.xlabel('(Year, Month)')\n",
    "plt.ylabel('Total crashes')\n",
    "plt.subplot(212)\n",
    "alc_yr_month.plot(color='orange',label='Total Crashes with Alcohol')\n",
    "plt.xlabel('(Year, Month)')\n",
    "plt.ylabel('Total crashes')\n",
    "plt.show()"
   ]
  },
  {
   "cell_type": "markdown",
   "metadata": {
    "ein.tags": "worksheet-0",
    "slideshow": {
     "slide_type": "-"
    }
   },
   "source": [
    "The seasonal pattern in crashes with alcohol is much weaker than for crashes as a whole.\n",
    "But the number of crashes with alcohol seems to have grown faster than crashes over all.\n",
    "Crashes with alcohol roughly doubled over this 13 year span from 100 to around 200,\n",
    "while the number of crashes overall grew by 30% or so from 3500 to 5000.\n",
    "\n",
    "There could conceivably be a shift in around 2010 with what could be a jump from 150 alcohol related collisions to around 200.\n",
    "I'm more inclined to suspect a change in data collection or some external process rather than a sudden change in drink"
   ]
  },
  {
   "cell_type": "code",
   "execution_count": 78,
   "metadata": {
    "autoscroll": false,
    "collapsed": false,
    "ein.tags": "worksheet-0",
    "slideshow": {
     "slide_type": "-"
    }
   },
   "outputs": [],
   "source": [
    "yr_month_val=yr_month.values"
   ]
  },
  {
   "cell_type": "code",
   "execution_count": 98,
   "metadata": {
    "autoscroll": false,
    "collapsed": false,
    "ein.tags": "worksheet-0",
    "slideshow": {
     "slide_type": "-"
    }
   },
   "outputs": [
    {
     "data": {
      "text/plain": [
       "<matplotlib.figure.Figure at 0x7efbc49c54a8>"
      ]
     },
     "metadata": {},
     "output_type": "display_data"
    }
   ],
   "source": [
    "n=10\n",
    "#split summer/winter months\n",
    "months=[0,'Jan','Feb','Mar','Apr','May','Jun','Jul','Aug','Sep','Oct','Nov','Dec']\n",
    "\n",
    "summer=[3,4,5,6,7,8]\n",
    "winter=[1,2,9,10,11,12]\n",
    "plt.figure()\n",
    "plt.subplot(211)\n",
    "for i in summer:\n",
    "    plt.plot(yr_month_val[i:-1:12],label=months[i])\n",
    "plt.legend()\n",
    "tickloc=np.array([0,3,6,9,12])\n",
    "plt.xticks(tickloc,tickloc+2003)\n",
    "plt.axis([-1,14,2500,6000])\n",
    "plt.subplot(212)\n",
    "for i in winter:\n",
    "    plt.plot(yr_month_val[i:-1:12],label=months[i])\n",
    "plt.xlabel('Year')\n",
    "plt.ylabel('Crashes per month')\n",
    "plt.axis([-1,14,2500,6000])\n",
    "tickloc=np.array([0,3,6,9,12])\n",
    "plt.xticks(tickloc,tickloc+2003)\n",
    "plt.legend()\n",
    "plt.show()"
   ]
  },
  {
   "cell_type": "code",
   "execution_count": 89,
   "metadata": {
    "autoscroll": false,
    "collapsed": false,
    "ein.tags": "worksheet-0",
    "slideshow": {
     "slide_type": "-"
    }
   },
   "outputs": [
    {
     "data": {
      "text/plain": [
       "array([ 0,  3,  6,  9, 12])"
      ]
     },
     "execution_count": 89,
     "metadata": {},
     "output_type": "execute_result"
    }
   ],
   "source": [
    "np.arange(0,13,3)"
   ]
  },
  {
   "cell_type": "code",
   "execution_count": 87,
   "metadata": {
    "autoscroll": false,
    "collapsed": false,
    "ein.tags": "worksheet-0",
    "slideshow": {
     "slide_type": "-"
    }
   },
   "outputs": [],
   "source": [
    "?plt.xticks"
   ]
  },
  {
   "cell_type": "markdown",
   "metadata": {
    "ein.tags": "worksheet-0",
    "slideshow": {
     "slide_type": "-"
    }
   },
   "source": [
    "So the winter months show the greatest variation between each other and over years.\n",
    "In comparison the summer months are all fairly closely clustered together, and show the same trend.\n",
    "\n",
    "Weather seems like the most likely culprit here.\n",
    "If there's bad weather accidents are more likely since the margins for error are smaller.\n",
    "\n"
   ]
  },
  {
   "cell_type": "markdown",
   "metadata": {
    "ein.tags": "worksheet-0",
    "slideshow": {
     "slide_type": "-"
    }
   },
   "source": [
    "# Simple Time Series\n",
    "\n",
    "Have the number of crashes increased? Well yeah, obviously.\n",
    "\n",
    "Approaches:\n",
    "Linear regression month by month.  This pulls out the linear trend.\n",
    "Treating things month by month removes the main annual seasonality.\n",
    "This might be a good candidate for a simple SARIMAX model, since we anticipate that crashes overall are increasing too. \n",
    "\n",
    "This might also be a good candidate for doing some Bayesian statistics on the regression. \n"
   ]
  },
  {
   "cell_type": "code",
   "execution_count": 15,
   "metadata": {
    "autoscroll": false,
    "collapsed": false,
    "ein.tags": "worksheet-0",
    "slideshow": {
     "slide_type": "-"
    }
   },
   "outputs": [],
   "source": [
    "from sklearn.linear_model import LinearRegression"
   ]
  },
  {
   "cell_type": "code",
   "execution_count": 24,
   "metadata": {
    "autoscroll": false,
    "collapsed": false,
    "ein.tags": "worksheet-0",
    "slideshow": {
     "slide_type": "-"
    }
   },
   "outputs": [],
   "source": [
    "Nyear=int(len(yr_month)/12)\n",
    "yr_mval=yr_month.values.reshape(Nyear,12)\n",
    "#add one to end points coz Python counting\n",
    "years=np.arange(2003,2016)\n",
    "years2=np.arange(2003,2017)"
   ]
  },
  {
   "cell_type": "code",
   "execution_count": 25,
   "metadata": {
    "autoscroll": false,
    "collapsed": false,
    "ein.tags": "worksheet-0",
    "slideshow": {
     "slide_type": "-"
    }
   },
   "outputs": [
    {
     "data": {
      "text/plain": [
       "array([2003, 2004, 2005, 2006, 2007, 2008, 2009, 2010, 2011, 2012, 2013, 2014,\n",
       "       2015, 2016])"
      ]
     },
     "execution_count": 25,
     "metadata": {},
     "output_type": "execute_result"
    }
   ],
   "source": [
    "years2"
   ]
  },
  {
   "cell_type": "code",
   "execution_count": 21,
   "metadata": {
    "autoscroll": false,
    "collapsed": false,
    "ein.tags": "worksheet-0",
    "slideshow": {
     "slide_type": "-"
    }
   },
   "outputs": [
    {
     "data": {
      "text/plain": [
       "<matplotlib.figure.Figure at 0x7efb9502c048>"
      ]
     },
     "metadata": {},
     "output_type": "display_data"
    }
   ],
   "source": [
    "plt.plot(yr_mval.T)\n",
    "plt.show()"
   ]
  },
  {
   "cell_type": "code",
   "execution_count": 72,
   "metadata": {
    "autoscroll": false,
    "collapsed": false,
    "ein.tags": "worksheet-0",
    "slideshow": {
     "slide_type": "-"
    }
   },
   "outputs": [],
   "source": [
    "lmod_list=[]\n",
    "#Run over months, with independent regression for each month\n",
    "#Going to ditch 2003 as a weird outlier\n",
    "lo=2004\n",
    "hi=2015\n",
    "#only train from 2004-2014.\n",
    "years =np.arange(2004, hi+1).reshape(-1,1)\n",
    "#Predict from 2003-2016.\n",
    "years2=np.arange(2003, hi+2).reshape(-1,1)\n",
    "#ging to predict one year ahead.\n",
    "Nyears=len(years2)\n",
    "pred_tot=np.zeros((Nyears,12))\n",
    "\n",
    "for i in range(12):\n",
    "    lmod=LinearRegression()\n",
    "    lmod.fit(years.reshape(-1,1),yr_mval[1:,i])\n",
    "    pred=lmod.predict(years2.reshape(-1,1))\n",
    "    pred_tot[:,i]=pred\n",
    "    lmod_list.append(lmod)"
   ]
  },
  {
   "cell_type": "code",
   "execution_count": null,
   "metadata": {
    "autoscroll": false,
    "collapsed": false,
    "ein.tags": "worksheet-0",
    "slideshow": {
     "slide_type": "-"
    }
   },
   "outputs": [],
   "source": [
    "#Now train/predict on 2004-2015\n",
    "for i in range(12):\n",
    "    lmod=LinearRegression()\n",
    "    lmod.fit(years.reshape(-1,1),yr_mval[1:-1,i])\n",
    "    pred=lmod.predict(years2.reshape(-1,1))\n",
    "    pred_tot[:,i]=pred\n",
    "    lmod_list.append(lmod)"
   ]
  },
  {
   "cell_type": "code",
   "execution_count": 82,
   "metadata": {
    "autoscroll": false,
    "collapsed": false,
    "ein.tags": "worksheet-0",
    "slideshow": {
     "slide_type": "-"
    }
   },
   "outputs": [],
   "source": [
    "array_tot=np.zeros((12,4));\n",
    "array_tot[:,0]=np.arange(12)  #Months\n",
    "array_tot[:,1]=yr_mval[-1]    #Actual 2015\n",
    "array_tot[:,2]=pred_tot[-2]   #\"pred\" 2015\n",
    "array_tot[:,3]=pred_tot[-1]   #regress 2016"
   ]
  },
  {
   "cell_type": "code",
   "execution_count": 83,
   "metadata": {
    "autoscroll": false,
    "collapsed": false,
    "ein.tags": "worksheet-0",
    "slideshow": {
     "slide_type": "-"
    }
   },
   "outputs": [],
   "source": [
    "df_pred15=pd.DataFrame(array_tot,columns=['Month','2015-Actual','2015-Regress','2016-Pred'])"
   ]
  },
  {
   "cell_type": "code",
   "execution_count": 84,
   "metadata": {
    "autoscroll": false,
    "collapsed": false,
    "ein.tags": "worksheet-0",
    "slideshow": {
     "slide_type": "-"
    }
   },
   "outputs": [
    {
     "data": {
      "text/plain": [
       "    Month  2015-Actual  2015-Regress    2016-Pred\n",
       "0     0.0       4114.0   4076.923077  4114.409091\n",
       "1     1.0       3650.0   3723.012821  3792.666667\n",
       "2     2.0       4009.0   3859.500000  3922.272727\n",
       "3     3.0       4289.0   3939.807692  4007.000000\n",
       "4     4.0       4166.0   4133.179487  4210.742424\n",
       "5     5.0       4898.0   4287.653846  4390.409091\n",
       "6     6.0       4654.0   4429.679487  4523.787879\n",
       "7     7.0       4530.0   4320.653846  4383.590909\n",
       "8     8.0       4701.0   4438.089744  4539.303030\n",
       "9     9.0       5052.0   4783.346154  4884.818182\n",
       "10   10.0       5292.0   4807.474359  4904.348485\n",
       "11   11.0       5801.0   5262.820513  5402.757576"
      ]
     },
     "execution_count": 84,
     "metadata": {},
     "output_type": "execute_result"
    }
   ],
   "source": [
    "df_pred15"
   ]
  },
  {
   "cell_type": "code",
   "execution_count": 86,
   "metadata": {
    "autoscroll": false,
    "collapsed": false,
    "ein.tags": "worksheet-0",
    "slideshow": {
     "slide_type": "-"
    }
   },
   "outputs": [],
   "source": [
    "df_pred15.to_csv('Tot_OR_crash.csv',index=False)"
   ]
  },
  {
   "cell_type": "code",
   "execution_count": 70,
   "metadata": {
    "autoscroll": false,
    "collapsed": false,
    "ein.tags": "worksheet-0",
    "slideshow": {
     "slide_type": "-"
    }
   },
   "outputs": [
    {
     "data": {
      "text/plain": [
       "<matplotlib.figure.Figure at 0x7efb932a7710>"
      ]
     },
     "metadata": {},
     "output_type": "display_data"
    }
   ],
   "source": [
    "for i in range(12):\n",
    "    plt.plot(np.arange(2003,2016),yr_mval[:,i])\n",
    "    plt.plot(np.arange(2003,2017),pred_tot[:,i])\n",
    "gplt.show()"
   ]
  },
  {
   "cell_type": "code",
   "execution_count": 88,
   "metadata": {
    "autoscroll": false,
    "collapsed": false,
    "ein.tags": "worksheet-0",
    "slideshow": {
     "slide_type": "-"
    }
   },
   "outputs": [
    {
     "data": {
      "text/plain": [
       "<matplotlib.figure.Figure at 0x7efb930e7668>"
      ]
     },
     "metadata": {},
     "output_type": "display_data"
    }
   ],
   "source": [
    "plt.plot(yr_month_val)\n",
    "plt.plot(pred_tot.reshape(-1))\n",
    "plt.show()"
   ]
  },
  {
   "cell_type": "code",
   "execution_count": null,
   "metadata": {
    "autoscroll": false,
    "collapsed": false,
    "ein.tags": "worksheet-0",
    "slideshow": {
     "slide_type": "-"
    }
   },
   "outputs": [],
   "source": [
    "# Simple Conditional Probabilities\n",
    "\n",
    "Let's look at the conditional probabilities for a fatal crash given alcohol, drugs.\n"
   ]
  },
  {
   "cell_type": "markdown",
   "metadata": {
    "ein.tags": "worksheet-0",
    "slideshow": {
     "slide_type": "-"
    }
   },
   "source": [
    "## Bayesian Statistics Time\n",
    "\n",
    "I'd like to apply Bayesian statistics to this problem.\n",
    "Theres a couple places it could work. First in any regression procedures.\n",
    "Second in computing the probabilities/likelihoods/risk-factors about the number of accidents involving alcohol, or other factors over time.\n",
    "\n",
    "If there were some additional data it might be possible to estimate the rate of drink-driving.  "
   ]
  }
 ],
 "metadata": {
  "kernelspec": {
   "display_name": "Python 3",
   "name": "python3"
  },
  "language_info": {
   "codemirror_mode": {
    "name": "ipython",
    "version": 3
   },
   "file_extension": ".py",
   "mimetype": "text/x-python",
   "name": "python",
   "nbconvert_exporter": "python",
   "pygments_lexer": "ipython3",
   "version": "3.6.3"
  },
  "name": "analyze_odot.ipynb"
 },
 "nbformat": 4,
 "nbformat_minor": 2
}
